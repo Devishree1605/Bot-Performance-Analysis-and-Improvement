{
  "nbformat": 4,
  "nbformat_minor": 0,
  "metadata": {
    "colab": {
      "provenance": []
    },
    "kernelspec": {
      "name": "python3",
      "display_name": "Python 3"
    },
    "language_info": {
      "name": "python"
    }
  },
  "cells": [
    {
      "cell_type": "code",
      "source": [
        "import pandas as pd\n",
        "\n",
        "# Load dataset\n",
        "df = pd.read_csv(\"/content/trading_bot_dataset_with_user_profiles1.csv\")\n",
        "\n",
        "# Step 1: Define NPS score logic (fixed order of conditions)\n",
        "def nps_score(feedback, sentiment):\n",
        "    feedback = str(feedback).lower()\n",
        "    sentiment = str(sentiment).lower()\n",
        "\n",
        "    if 'failed' in feedback or sentiment == 'negative':\n",
        "        return 3   # Detractor\n",
        "    elif 'helpful' in feedback or sentiment == 'positive':\n",
        "        return 10  # Promoter\n",
        "    elif 'needs improvement' in feedback or sentiment == 'neutral':\n",
        "        return 7   # Passive\n",
        "    else:\n",
        "        return 7   # Default to Passive\n",
        "\n",
        "# Step 2: Apply NPS score to DataFrame\n",
        "df['NPS_Score'] = df.apply(lambda row: nps_score(row['User Feedback'], row['User Sentiment']), axis=1)\n",
        "\n",
        "# Step 3: Define category mapping\n",
        "def nps_category(score):\n",
        "    if score >= 9:\n",
        "        return 'Promoter'\n",
        "    elif 7 <= score <= 8:\n",
        "        return 'Passive'\n",
        "    else:\n",
        "        return 'Detractor'\n",
        "\n",
        "df['NPS_Category'] = df['NPS_Score'].apply(nps_category)\n",
        "\n",
        "# Step 4: Save updated CSV\n",
        "df.to_csv(\"/content/trading_bot_dataset_with.csv\", index=False)\n",
        "\n",
        "# Step 5: Preview output\n",
        "print(df[['User Feedback', 'User Sentiment', 'NPS_Score', 'NPS_Category']].head())\n"
      ],
      "metadata": {
        "colab": {
          "base_uri": "https://localhost:8080/"
        },
        "id": "9S1mcy1kaW6u",
        "outputId": "f38aade0-07af-4a69-e2ba-be2af79aeac1"
      },
      "execution_count": null,
      "outputs": [
        {
          "output_type": "stream",
          "name": "stdout",
          "text": [
            "       User Feedback User Sentiment  NPS_Score NPS_Category\n",
            "0            Helpful       Positive         10     Promoter\n",
            "1  Needs improvement       Negative          3    Detractor\n",
            "2  Needs improvement       Negative          3    Detractor\n",
            "3  Needs improvement        Neutral          7      Passive\n",
            "4  Needs improvement       Negative          3    Detractor\n"
          ]
        }
      ]
    }
  ]
}