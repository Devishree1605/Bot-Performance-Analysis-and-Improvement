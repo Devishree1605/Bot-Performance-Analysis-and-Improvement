{
 "cells": [
  {
   "cell_type": "code",
   "execution_count": 84,
   "metadata": {},
   "outputs": [],
   "source": [
    "import pandas as pd\n",
    "from statsmodels.stats.proportion import proportions_ztest\n",
    "import re"
   ]
  },
  {
   "cell_type": "code",
   "execution_count": 85,
   "metadata": {},
   "outputs": [
    {
     "data": {
      "text/html": [
       "<div>\n",
       "<style scoped>\n",
       "    .dataframe tbody tr th:only-of-type {\n",
       "        vertical-align: middle;\n",
       "    }\n",
       "\n",
       "    .dataframe tbody tr th {\n",
       "        vertical-align: top;\n",
       "    }\n",
       "\n",
       "    .dataframe thead th {\n",
       "        text-align: right;\n",
       "    }\n",
       "</style>\n",
       "<table border=\"1\" class=\"dataframe\">\n",
       "  <thead>\n",
       "    <tr style=\"text-align: right;\">\n",
       "      <th></th>\n",
       "      <th>Interaction ID</th>\n",
       "      <th>Timestamp</th>\n",
       "      <th>User Query</th>\n",
       "      <th>Intent Detected</th>\n",
       "      <th>Bot Response</th>\n",
       "      <th>Response Time (ms)</th>\n",
       "      <th>Prediction Accuracy (%)</th>\n",
       "      <th>Entity Extraction Accuracy (%)</th>\n",
       "      <th>User Sentiment</th>\n",
       "      <th>User Feedback</th>\n",
       "      <th>Conversation Success</th>\n",
       "      <th>User ID</th>\n",
       "      <th>User Type</th>\n",
       "      <th>Region</th>\n",
       "      <th>Device Type</th>\n",
       "      <th>Account Age (months)</th>\n",
       "      <th>Is Premium</th>\n",
       "    </tr>\n",
       "  </thead>\n",
       "  <tbody>\n",
       "    <tr>\n",
       "      <th>0</th>\n",
       "      <td>1</td>\n",
       "      <td>1/28/2020 14:41</td>\n",
       "      <td>What is your prediction for Bonds?</td>\n",
       "      <td>Financial Advice</td>\n",
       "      <td>BTC is bullish, buying recommended.</td>\n",
       "      <td>150</td>\n",
       "      <td>95</td>\n",
       "      <td>90</td>\n",
       "      <td>Neutral</td>\n",
       "      <td>Needs improvement</td>\n",
       "      <td>Failed</td>\n",
       "      <td>U10166</td>\n",
       "      <td>Retail</td>\n",
       "      <td>Asia</td>\n",
       "      <td>Tablet</td>\n",
       "      <td>43</td>\n",
       "      <td>False</td>\n",
       "    </tr>\n",
       "    <tr>\n",
       "      <th>1</th>\n",
       "      <td>2</td>\n",
       "      <td>11/26/2020 11:59</td>\n",
       "      <td>What is your prediction for Forex?</td>\n",
       "      <td>Price Check</td>\n",
       "      <td>ETH has a downward trend, selling might be an ...</td>\n",
       "      <td>155</td>\n",
       "      <td>94</td>\n",
       "      <td>91</td>\n",
       "      <td>Positive</td>\n",
       "      <td>Helpful</td>\n",
       "      <td>Successful</td>\n",
       "      <td>U10030</td>\n",
       "      <td>Retail</td>\n",
       "      <td>South America</td>\n",
       "      <td>Desktop</td>\n",
       "      <td>9</td>\n",
       "      <td>False</td>\n",
       "    </tr>\n",
       "    <tr>\n",
       "      <th>2</th>\n",
       "      <td>3</td>\n",
       "      <td>9/6/2021 17:10</td>\n",
       "      <td>Any news on Gold?</td>\n",
       "      <td>Stock Prediction</td>\n",
       "      <td>Stock market shows mixed signals today.</td>\n",
       "      <td>160</td>\n",
       "      <td>93</td>\n",
       "      <td>92</td>\n",
       "      <td>Positive</td>\n",
       "      <td>Helpful</td>\n",
       "      <td>Successful</td>\n",
       "      <td>U10253</td>\n",
       "      <td>Institutional</td>\n",
       "      <td>Asia</td>\n",
       "      <td>Mobile</td>\n",
       "      <td>4</td>\n",
       "      <td>True</td>\n",
       "    </tr>\n",
       "    <tr>\n",
       "      <th>3</th>\n",
       "      <td>4</td>\n",
       "      <td>9/14/2022 16:14</td>\n",
       "      <td>Should I buy or sell WTI?</td>\n",
       "      <td>Strategy Advice</td>\n",
       "      <td>Forex market indicates a strong USD.</td>\n",
       "      <td>165</td>\n",
       "      <td>92</td>\n",
       "      <td>93</td>\n",
       "      <td>Positive</td>\n",
       "      <td>Helpful</td>\n",
       "      <td>Successful</td>\n",
       "      <td>U10255</td>\n",
       "      <td>Retail</td>\n",
       "      <td>Europe</td>\n",
       "      <td>Mobile</td>\n",
       "      <td>49</td>\n",
       "      <td>False</td>\n",
       "    </tr>\n",
       "    <tr>\n",
       "      <th>4</th>\n",
       "      <td>5</td>\n",
       "      <td>11/6/2023 11:40</td>\n",
       "      <td>What's the trend with Tesla?</td>\n",
       "      <td>Strategy Advice</td>\n",
       "      <td>Diversifying might reduce your risk.</td>\n",
       "      <td>170</td>\n",
       "      <td>91</td>\n",
       "      <td>94</td>\n",
       "      <td>Positive</td>\n",
       "      <td>Helpful</td>\n",
       "      <td>Successful</td>\n",
       "      <td>U10085</td>\n",
       "      <td>Retail</td>\n",
       "      <td>North America</td>\n",
       "      <td>Desktop</td>\n",
       "      <td>25</td>\n",
       "      <td>False</td>\n",
       "    </tr>\n",
       "  </tbody>\n",
       "</table>\n",
       "</div>"
      ],
      "text/plain": [
       "   Interaction ID         Timestamp                          User Query  \\\n",
       "0               1   1/28/2020 14:41  What is your prediction for Bonds?   \n",
       "1               2  11/26/2020 11:59  What is your prediction for Forex?   \n",
       "2               3    9/6/2021 17:10                   Any news on Gold?   \n",
       "3               4   9/14/2022 16:14           Should I buy or sell WTI?   \n",
       "4               5   11/6/2023 11:40        What's the trend with Tesla?   \n",
       "\n",
       "    Intent Detected                                       Bot Response  \\\n",
       "0  Financial Advice                BTC is bullish, buying recommended.   \n",
       "1       Price Check  ETH has a downward trend, selling might be an ...   \n",
       "2  Stock Prediction            Stock market shows mixed signals today.   \n",
       "3   Strategy Advice               Forex market indicates a strong USD.   \n",
       "4   Strategy Advice               Diversifying might reduce your risk.   \n",
       "\n",
       "   Response Time (ms)  Prediction Accuracy (%)  \\\n",
       "0                 150                       95   \n",
       "1                 155                       94   \n",
       "2                 160                       93   \n",
       "3                 165                       92   \n",
       "4                 170                       91   \n",
       "\n",
       "   Entity Extraction Accuracy (%) User Sentiment      User Feedback  \\\n",
       "0                              90        Neutral  Needs improvement   \n",
       "1                              91       Positive            Helpful   \n",
       "2                              92       Positive            Helpful   \n",
       "3                              93       Positive            Helpful   \n",
       "4                              94       Positive            Helpful   \n",
       "\n",
       "  Conversation Success User ID      User Type         Region Device Type  \\\n",
       "0               Failed  U10166         Retail           Asia      Tablet   \n",
       "1           Successful  U10030         Retail  South America     Desktop   \n",
       "2           Successful  U10253  Institutional           Asia      Mobile   \n",
       "3           Successful  U10255         Retail         Europe      Mobile   \n",
       "4           Successful  U10085         Retail  North America     Desktop   \n",
       "\n",
       "   Account Age (months)  Is Premium  \n",
       "0                    43       False  \n",
       "1                     9       False  \n",
       "2                     4        True  \n",
       "3                    49       False  \n",
       "4                    25       False  "
      ]
     },
     "execution_count": 85,
     "metadata": {},
     "output_type": "execute_result"
    }
   ],
   "source": [
    "# Change this path to your actual file location\n",
    "file_path = r\"C:\\Users\\jagadeesh02.TRN\\Desktop\\Project Details\\trading_bot_dataset_with_user_profiles.csv\"\n",
    "\n",
    "# Load CSV\n",
    "df = pd.read_csv(file_path)\n",
    "\n",
    "# Display preview\n",
    "df.head()\n"
   ]
  },
  {
   "cell_type": "code",
   "execution_count": 86,
   "metadata": {},
   "outputs": [],
   "source": [
    "# Extract numeric part of User ID\n",
    "df[\"UserID_Num\"] = df[\"User ID\"].apply(lambda x: int(re.search(r'\\d+', str(x)).group()))\n",
    "\n",
    "# Assign Flow A if even, B if odd\n",
    "df[\"Assigned_Flow\"] = df[\"UserID_Num\"].apply(lambda x: \"A\" if x % 2 == 0 else \"B\")\n"
   ]
  },
  {
   "cell_type": "code",
   "execution_count": 87,
   "metadata": {},
   "outputs": [],
   "source": [
    "# Convert \"Conversation Success\" to binary\n",
    "df[\"Success_Flag\"] = df[\"Conversation Success\"].apply(lambda x: 1 if str(x).strip().lower() == \"successful\" else 0)\n",
    "\n"
   ]
  },
  {
   "cell_type": "code",
   "execution_count": 88,
   "metadata": {},
   "outputs": [],
   "source": [
    "# Group by Assigned Flow and compute counts\n",
    "grouped = df.groupby(\"Assigned_Flow\")[\"Success_Flag\"].agg([\"sum\", \"count\"]).reset_index()\n",
    "grouped.columns = [\"Assigned_Flow\", \"Success_Count\", \"Total_Users\"]\n"
   ]
  },
  {
   "cell_type": "code",
   "execution_count": 89,
   "metadata": {},
   "outputs": [
    {
     "data": {
      "text/html": [
       "<div>\n",
       "<style scoped>\n",
       "    .dataframe tbody tr th:only-of-type {\n",
       "        vertical-align: middle;\n",
       "    }\n",
       "\n",
       "    .dataframe tbody tr th {\n",
       "        vertical-align: top;\n",
       "    }\n",
       "\n",
       "    .dataframe thead th {\n",
       "        text-align: right;\n",
       "    }\n",
       "</style>\n",
       "<table border=\"1\" class=\"dataframe\">\n",
       "  <thead>\n",
       "    <tr style=\"text-align: right;\">\n",
       "      <th></th>\n",
       "      <th>Assigned_Flow</th>\n",
       "      <th>Success_Count</th>\n",
       "      <th>Total_Users</th>\n",
       "    </tr>\n",
       "  </thead>\n",
       "  <tbody>\n",
       "    <tr>\n",
       "      <th>0</th>\n",
       "      <td>A</td>\n",
       "      <td>318</td>\n",
       "      <td>518</td>\n",
       "    </tr>\n",
       "    <tr>\n",
       "      <th>1</th>\n",
       "      <td>B</td>\n",
       "      <td>282</td>\n",
       "      <td>482</td>\n",
       "    </tr>\n",
       "  </tbody>\n",
       "</table>\n",
       "</div>"
      ],
      "text/plain": [
       "  Assigned_Flow  Success_Count  Total_Users\n",
       "0             A            318          518\n",
       "1             B            282          482"
      ]
     },
     "metadata": {},
     "output_type": "display_data"
    }
   ],
   "source": [
    "display(grouped)"
   ]
  },
  {
   "cell_type": "code",
   "execution_count": 90,
   "metadata": {},
   "outputs": [],
   "source": [
    "# Run two-proportion z-test\n",
    "z_stat, p_value = proportions_ztest(count=grouped[\"Success_Count\"], nobs=grouped[\"Total_Users\"])\n",
    "\n",
    "# Add to result\n",
    "grouped[\"Z_Statistic\"] = z_stat\n",
    "grouped[\"P_Value\"] = p_value\n"
   ]
  },
  {
   "cell_type": "code",
   "execution_count": 91,
   "metadata": {},
   "outputs": [
    {
     "data": {
      "text/plain": [
       "np.float64(0.9301189155540287)"
      ]
     },
     "metadata": {},
     "output_type": "display_data"
    }
   ],
   "source": [
    "display(z_stat)"
   ]
  },
  {
   "cell_type": "code",
   "execution_count": 92,
   "metadata": {},
   "outputs": [
    {
     "data": {
      "text/plain": [
       "np.float64(0.35230951804780153)"
      ]
     },
     "metadata": {},
     "output_type": "display_data"
    }
   ],
   "source": [
    "display(p_value)"
   ]
  },
  {
   "cell_type": "code",
   "execution_count": 93,
   "metadata": {},
   "outputs": [
    {
     "name": "stdout",
     "output_type": "stream",
     "text": [
      "📊 A/B Test Result Based on Conversation Success:\n",
      "  Assigned_Flow  Success_Count  Total_Users  Z_Statistic  P_Value\n",
      "0             A            318          518     0.930119  0.35231\n",
      "1             B            282          482     0.930119  0.35231\n",
      "ℹ️ No significant difference detected between A and B flows.\n"
     ]
    }
   ],
   "source": [
    "print(\"📊 A/B Test Result Based on Conversation Success:\")\n",
    "print(grouped)\n",
    "\n",
    "# Optional: Simple significance test interpretation\n",
    "if p_value < 0.05:\n",
    "    print(\"✅ Significant difference detected between A and B flows.\")\n",
    "else:\n",
    "    print(\"ℹ️ No significant difference detected between A and B flows.\")\n"
   ]
  },
  {
   "cell_type": "markdown",
   "metadata": {},
   "source": [
    "Bar Chart – Success Count per Flow\n"
   ]
  },
  {
   "cell_type": "code",
   "execution_count": 94,
   "metadata": {},
   "outputs": [
    {
     "name": "stderr",
     "output_type": "stream",
     "text": [
      "C:\\Users\\jagadeesh02.TRN\\AppData\\Local\\Temp\\ipykernel_11832\\1782612026.py:18: FutureWarning: \n",
      "\n",
      "Passing `palette` without assigning `hue` is deprecated and will be removed in v0.14.0. Assign the `x` variable to `hue` and set `legend=False` for the same effect.\n",
      "\n",
      "  sns.barplot(x=\"Assigned_Flow\", y=\"Success_Rate\", data=ab_results, palette=\"Set2\")\n",
      "C:\\Users\\jagadeesh02.TRN\\AppData\\Local\\Temp\\ipykernel_11832\\1782612026.py:23: UserWarning: Glyph 9989 (\\N{WHITE HEAVY CHECK MARK}) missing from font(s) DejaVu Sans.\n",
      "  plt.tight_layout()\n",
      "C:\\Users\\jagadeesh02.TRN\\AppData\\Roaming\\Python\\Python313\\site-packages\\IPython\\core\\pylabtools.py:170: UserWarning: Glyph 9989 (\\N{WHITE HEAVY CHECK MARK}) missing from font(s) DejaVu Sans.\n",
      "  fig.canvas.print_figure(bytes_io, **kw)\n"
     ]
    },
    {
     "data": {
      "image/png": "[encoded data removed]",
      "text/plain": [
       "<Figure size 800x600 with 1 Axes>"
      ]
     },
     "metadata": {},
     "output_type": "display_data"
    }
   ],
   "source": [
    "import pandas as pd\n",
    "import matplotlib.pyplot as plt\n",
    "import seaborn as sns\n",
    "\n",
    "# Final A/B test result (manually entered from your output or from your code)\n",
    "ab_results = pd.DataFrame({\n",
    "    \"Assigned_Flow\": [\"A\", \"B\"],\n",
    "    \"Success_Count\": [318, 282],\n",
    "    \"Total_Users\": [518, 482],\n",
    "    \"P_Value\": [0.35231, 0.35231]\n",
    "})\n",
    "\n",
    "# Add success rate for each group\n",
    "ab_results[\"Success_Rate\"] = ab_results[\"Success_Count\"] / ab_results[\"Total_Users\"]\n",
    "\n",
    "# Bar chart: Success Rate\n",
    "plt.figure(figsize=(8, 6))\n",
    "sns.barplot(x=\"Assigned_Flow\", y=\"Success_Rate\", data=ab_results, palette=\"Set2\")\n",
    "plt.title(\"✅ A/B Test: Success Rate Comparison\")\n",
    "plt.ylabel(\"Success Rate\")\n",
    "plt.ylim(0, 1)\n",
    "plt.xlabel(\"Assigned Flow\")\n",
    "plt.tight_layout()\n",
    "plt.grid(axis='y', linestyle='--', alpha=0.6)\n",
    "plt.show()\n"
   ]
  },
  {
   "cell_type": "markdown",
   "metadata": {},
   "source": [
    "Pie Chart Distribution"
   ]
  },
  {
   "cell_type": "code",
   "execution_count": 95,
   "metadata": {},
   "outputs": [
    {
     "name": "stderr",
     "output_type": "stream",
     "text": [
      "C:\\Users\\jagadeesh02.TRN\\AppData\\Roaming\\Python\\Python313\\site-packages\\IPython\\core\\pylabtools.py:170: UserWarning: Glyph 129489 (\\N{ADULT}) missing from font(s) DejaVu Sans.\n",
      "  fig.canvas.print_figure(bytes_io, **kw)\n",
      "C:\\Users\\jagadeesh02.TRN\\AppData\\Roaming\\Python\\Python313\\site-packages\\IPython\\core\\pylabtools.py:170: UserWarning: Glyph 129309 (\\N{HANDSHAKE}) missing from font(s) DejaVu Sans.\n",
      "  fig.canvas.print_figure(bytes_io, **kw)\n"
     ]
    },
    {
     "data": {
      "image/png": "[encoded data removed]",
      "text/plain": [
       "<Figure size 600x600 with 1 Axes>"
      ]
     },
     "metadata": {},
     "output_type": "display_data"
    }
   ],
   "source": [
    "# Pie chart: User distribution\n",
    "plt.figure(figsize=(6, 6))\n",
    "plt.pie(\n",
    "    ab_results[\"Total_Users\"],\n",
    "    labels=ab_results[\"Assigned_Flow\"],\n",
    "    autopct='%1.1f%%',\n",
    "    colors=[\"#66c2a5\", \"#fc8d62\"]\n",
    ")\n",
    "plt.title(\"🧑‍🤝‍🧑 User Distribution Between Flows\")\n",
    "plt.show()\n"
   ]
  },
  {
   "cell_type": "markdown",
   "metadata": {},
   "source": [
    "Annotated Summary Table Plot"
   ]
  },
  {
   "cell_type": "code",
   "execution_count": 96,
   "metadata": {},
   "outputs": [
    {
     "name": "stderr",
     "output_type": "stream",
     "text": [
      "C:\\Users\\jagadeesh02.TRN\\AppData\\Local\\Temp\\ipykernel_11832\\2201687692.py:6: FutureWarning: Styler.applymap has been deprecated. Use Styler.map instead.\n",
      "  ab_results_display.style.applymap(highlight_significance, subset=[\"P_Value\"]).format({\n"
     ]
    },
    {
     "data": {
      "text/html": [
       "<style type=\"text/css\">\n",
       "#T_db34c_row0_col4, #T_db34c_row1_col4 {\n",
       "  color: green;\n",
       "}\n",
       "</style>\n",
       "<table id=\"T_db34c\">\n",
       "  <thead>\n",
       "    <tr>\n",
       "      <th class=\"blank level0\" >&nbsp;</th>\n",
       "      <th id=\"T_db34c_level0_col0\" class=\"col_heading level0 col0\" >Assigned_Flow</th>\n",
       "      <th id=\"T_db34c_level0_col1\" class=\"col_heading level0 col1\" >Success_Count</th>\n",
       "      <th id=\"T_db34c_level0_col2\" class=\"col_heading level0 col2\" >Total_Users</th>\n",
       "      <th id=\"T_db34c_level0_col3\" class=\"col_heading level0 col3\" >Success_Rate</th>\n",
       "      <th id=\"T_db34c_level0_col4\" class=\"col_heading level0 col4\" >P_Value</th>\n",
       "    </tr>\n",
       "  </thead>\n",
       "  <tbody>\n",
       "    <tr>\n",
       "      <th id=\"T_db34c_level0_row0\" class=\"row_heading level0 row0\" >0</th>\n",
       "      <td id=\"T_db34c_row0_col0\" class=\"data row0 col0\" >A</td>\n",
       "      <td id=\"T_db34c_row0_col1\" class=\"data row0 col1\" >318</td>\n",
       "      <td id=\"T_db34c_row0_col2\" class=\"data row0 col2\" >518</td>\n",
       "      <td id=\"T_db34c_row0_col3\" class=\"data row0 col3\" >61.39%</td>\n",
       "      <td id=\"T_db34c_row0_col4\" class=\"data row0 col4\" >0.35231</td>\n",
       "    </tr>\n",
       "    <tr>\n",
       "      <th id=\"T_db34c_level0_row1\" class=\"row_heading level0 row1\" >1</th>\n",
       "      <td id=\"T_db34c_row1_col0\" class=\"data row1 col0\" >B</td>\n",
       "      <td id=\"T_db34c_row1_col1\" class=\"data row1 col1\" >282</td>\n",
       "      <td id=\"T_db34c_row1_col2\" class=\"data row1 col2\" >482</td>\n",
       "      <td id=\"T_db34c_row1_col3\" class=\"data row1 col3\" >58.51%</td>\n",
       "      <td id=\"T_db34c_row1_col4\" class=\"data row1 col4\" >0.35231</td>\n",
       "    </tr>\n",
       "  </tbody>\n",
       "</table>\n"
      ],
      "text/plain": [
       "<pandas.io.formats.style.Styler at 0x2063808d950>"
      ]
     },
     "execution_count": 96,
     "metadata": {},
     "output_type": "execute_result"
    }
   ],
   "source": [
    "# Display summary with color-coded p-value interpretation\n",
    "def highlight_significance(val):\n",
    "    return 'color: red;' if val < 0.05 else 'color: green;'\n",
    "\n",
    "ab_results_display = ab_results[[\"Assigned_Flow\", \"Success_Count\", \"Total_Users\", \"Success_Rate\", \"P_Value\"]]\n",
    "ab_results_display.style.applymap(highlight_significance, subset=[\"P_Value\"]).format({\n",
    "    \"Success_Rate\": \"{:.2%}\",\n",
    "    \"P_Value\": \"{:.5f}\"\n",
    "})\n"
   ]
  },
  {
   "cell_type": "markdown",
   "metadata": {},
   "source": [
    "Add Auto-Deployment Logic if >X% improvement"
   ]
  },
  {
   "cell_type": "code",
   "execution_count": 100,
   "metadata": {},
   "outputs": [
    {
     "name": "stdout",
     "output_type": "stream",
     "text": [
      "📉 No sufficient improvement. Keeping both flows active.\n"
     ]
    }
   ],
   "source": [
    "# Threshold for automatic deployment (e.g., 5% improvement)\n",
    "threshold = 0.05\n",
    "\n",
    "# Calculate relative improvement\n",
    "rate_a = ab_results.loc[ab_results['Assigned_Flow'] == 'A', 'Success_Rate'].values[0]\n",
    "rate_b = ab_results.loc[ab_results['Assigned_Flow'] == 'B', 'Success_Rate'].values[0]\n",
    "\n",
    "# Compare and deploy winner if improvement is significant\n",
    "if abs(rate_a - rate_b) / min(rate_a, rate_b) > threshold and p_value < 0.05:\n",
    "    winning_flow = 'A' if rate_a > rate_b else 'B'\n",
    "    print(f\"🚀 Deploying flow {winning_flow} as it shows >{threshold*100}% improvement with statistical significance.\")\n",
    "else:\n",
    "    print(\"📉 No sufficient improvement. Keeping both flows active.\")\n"
   ]
  },
  {
   "cell_type": "code",
   "execution_count": 103,
   "metadata": {},
   "outputs": [
    {
     "name": "stdout",
     "output_type": "stream",
     "text": [
      "+-------------+-------------+-----------+------------------+-------------+------------------+\n",
      "|Assigned_Flow|Success_Count|Total_Users| Avg_Response_Time|Avg_Sentiment|      Success_Rate|\n",
      "+-------------+-------------+-----------+------------------+-------------+------------------+\n",
      "|            B|          282|        482|172.99792531120332|         NULL|0.5850622406639004|\n",
      "|            A|          318|        518|172.03667953667954|         NULL|0.6138996138996139|\n",
      "+-------------+-------------+-----------+------------------+-------------+------------------+\n",
      "\n",
      "📁 Exported subgroup analysis for User Type → C:\\Users\\jagadeesh02.TRN\\Desktop\\Project Details\\ab_test1_subgroup_User_Type.csv\n",
      "📁 Exported subgroup analysis for Region → C:\\Users\\jagadeesh02.TRN\\Desktop\\Project Details\\ab_test1_subgroup_Region.csv\n",
      "📁 Exported subgroup analysis for Device Type → C:\\Users\\jagadeesh02.TRN\\Desktop\\Project Details\\ab_test1_subgroup_Device_Type.csv\n",
      "⏳ Test in progress: only 292/1000 users collected.\n"
     ]
    }
   ],
   "source": [
    "from pyspark.sql.functions import avg\n",
    "\n",
    "# 🔍 1. Add Response Time and Sentiment to analysis per flow\n",
    "metrics_df = df.groupBy(\"Assigned_Flow\").agg(\n",
    "    spark_sum(\"Success_Flag\").alias(\"Success_Count\"),\n",
    "    spark_count(\"Success_Flag\").alias(\"Total_Users\"),\n",
    "    avg(\"Response Time (ms)\").alias(\"Avg_Response_Time\"),\n",
    "    avg(\"User Sentiment\").alias(\"Avg_Sentiment\")  # Assumes sentiment is numeric (e.g., -1 to 1 or 1–5)\n",
    ")\n",
    "\n",
    "metrics_df = metrics_df.withColumn(\"Success_Rate\", col(\"Success_Count\") / col(\"Total_Users\"))\n",
    "metrics_df.show()\n",
    "\n",
    "# 2️⃣ Export subgroup analysis (User Type, Region, Device Type)\n",
    "subgroup_cols = [\"User Type\", \"Region\", \"Device Type\"]\n",
    "\n",
    "for col_name in subgroup_cols:\n",
    "    subgroup = df.groupBy(col_name, \"Assigned_Flow\").agg(\n",
    "        spark_sum(\"Success_Flag\").alias(\"Success_Count\"),\n",
    "        spark_count(\"Success_Flag\").alias(\"Total_Users\")\n",
    "    ).withColumn(\"Success_Rate\", col(\"Success_Count\") / col(\"Total_Users\"))\n",
    "    \n",
    "    export_path = f\"C:\\\\Users\\\\jagadeesh02.TRN\\\\Desktop\\\\Project Details\\\\ab_test1_subgroup_{col_name.replace(' ', '_')}.csv\"\n",
    "    subgroup.toPandas().to_csv(export_path, index=False)\n",
    "    print(f\"📁 Exported subgroup analysis for {col_name} → {export_path}\")\n",
    "\n",
    "# 🛑 3. Auto-end A/B test logic\n",
    "total_users = df.select(\"User ID\").distinct().count()\n",
    "min_required_users = 1000  # example threshold\n",
    "\n",
    "if total_users >= min_required_users:\n",
    "    if p_value < 0.05 and relative_improvement > threshold:\n",
    "        print(f\"✅ Test complete: flow '{winning_flow}' shows significant improvement. Recommend deployment.\")\n",
    "    else:\n",
    "        print(\"⚠️ Test complete but no clear winner. Recommend further iteration or testing with different metric.\")\n",
    "else:\n",
    "    print(f\"⏳ Test in progress: only {total_users}/{min_required_users} users collected.\")\n"
   ]
  },
  {
   "cell_type": "markdown",
   "metadata": {},
   "source": [
    "Multivariate A/B Test (e.g., A1, A2, B1) with PySpark"
   ]
  },
  {
   "cell_type": "code",
   "execution_count": 104,
   "metadata": {},
   "outputs": [
    {
     "name": "stdout",
     "output_type": "stream",
     "text": [
      "+------------------+-------------+-----------+------------------+\n",
      "|Assigned_MultiFlow|Success_Count|Total_Users|      Success_Rate|\n",
      "+------------------+-------------+-----------+------------------+\n",
      "|                A2|          276|        448|0.6160714285714286|\n",
      "|                B1|          132|        219|0.6027397260273972|\n",
      "|                A1|          192|        333|0.5765765765765766|\n",
      "+------------------+-------------+-----------+------------------+\n",
      "\n"
     ]
    }
   ],
   "source": [
    "from pyspark.sql.functions import rand, when, col, lit\n",
    "\n",
    "# Assign users randomly to 3 groups: A1, A2, B1\n",
    "df = df.withColumn(\n",
    "    \"Assigned_MultiFlow\",\n",
    "    when(rand() < 0.33, lit(\"A1\"))\n",
    "    .when(rand() < 0.66, lit(\"A2\"))\n",
    "    .otherwise(lit(\"B1\"))\n",
    ")\n",
    "\n",
    "# Flag success as before\n",
    "df = df.withColumn(\"Success_Flag\", when(col(\"Conversation Success\") == \"Successful\", 1).otherwise(0))\n",
    "\n",
    "# Aggregate success counts per multivariate flow\n",
    "multi_grouped = df.groupBy(\"Assigned_MultiFlow\").agg(\n",
    "    spark_sum(\"Success_Flag\").alias(\"Success_Count\"),\n",
    "    spark_count(\"Success_Flag\").alias(\"Total_Users\")\n",
    ").withColumn(\"Success_Rate\", col(\"Success_Count\") / col(\"Total_Users\"))\n",
    "\n",
    "multi_grouped.show()\n"
   ]
  },
  {
   "cell_type": "markdown",
   "metadata": {},
   "source": [
    "Predictive Flow Assignment Using MLlib (Binary Classification Example)"
   ]
  },
  {
   "cell_type": "code",
   "execution_count": 105,
   "metadata": {},
   "outputs": [
    {
     "name": "stdout",
     "output_type": "stream",
     "text": [
      "+-------+-------------+--------------------+----------+\n",
      "|User ID|Assigned_Flow|         probability|prediction|\n",
      "+-------+-------------+--------------------+----------+\n",
      "| U10253|            B|[0.43217216423394...|       1.0|\n",
      "| U10081|            B|[0.35093986070554...|       1.0|\n",
      "| U10044|            A|[0.30758774073525...|       1.0|\n",
      "| U10104|            A|[0.42636149510919...|       1.0|\n",
      "| U10112|            A|[0.36595037147007...|       1.0|\n",
      "+-------+-------------+--------------------+----------+\n",
      "only showing top 5 rows\n",
      "\n"
     ]
    }
   ],
   "source": [
    "from pyspark.ml.feature import StringIndexer, VectorAssembler\n",
    "from pyspark.ml.classification import LogisticRegression\n",
    "from pyspark.ml import Pipeline\n",
    "\n",
    "# Prepare label: Success_Flag (already created)\n",
    "# Features: encode User Type, Region, Device Type and use Response Time\n",
    "indexers = [\n",
    "    StringIndexer(inputCol=col_name, outputCol=col_name + \"_idx\")\n",
    "    for col_name in [\"User Type\", \"Region\", \"Device Type\"]\n",
    "]\n",
    "\n",
    "assembler = VectorAssembler(\n",
    "    inputCols=[\"User Type_idx\", \"Region_idx\", \"Device Type_idx\", \"Response Time (ms)\"],\n",
    "    outputCol=\"features\"\n",
    ")\n",
    "\n",
    "lr = LogisticRegression(featuresCol=\"features\", labelCol=\"Success_Flag\")\n",
    "\n",
    "pipeline = Pipeline(stages=indexers + [assembler, lr])\n",
    "\n",
    "# Split train/test\n",
    "train_df, test_df = df.randomSplit([0.8, 0.2], seed=42)\n",
    "\n",
    "# Fit model\n",
    "model = pipeline.fit(train_df)\n",
    "\n",
    "# Predict success probability (can help assign flows likely to succeed)\n",
    "predictions = model.transform(test_df)\n",
    "predictions.select(\"User ID\", \"Assigned_Flow\", \"probability\", \"prediction\").show(5)\n"
   ]
  },
  {
   "cell_type": "markdown",
   "metadata": {},
   "source": [
    "Visualization Script with matplotlib & seaborn from Exported Data"
   ]
  },
  {
   "cell_type": "code",
   "execution_count": 107,
   "metadata": {},
   "outputs": [
    {
     "data": {
      "image/png": "[encoded data removed]",
      "text/plain": [
       "<Figure size 1000x600 with 1 Axes>"
      ]
     },
     "metadata": {},
     "output_type": "display_data"
    }
   ],
   "source": [
    "import pandas as pd\n",
    "import matplotlib.pyplot as plt\n",
    "import seaborn as sns\n",
    "\n",
    "# Load subgroup export CSV example\n",
    "user_type_df = pd.read_csv(r\"C:\\Users\\jagadeesh02.TRN\\Desktop\\Project Details\\ab_test1_subgroup_User_Type.csv\")\n",
    "\n",
    "# Barplot Success Rate by User Type and Flow\n",
    "plt.figure(figsize=(10,6))\n",
    "sns.barplot(data=user_type_df, x=\"User Type\", y=\"Success_Rate\", hue=\"Assigned_Flow\", palette=\"Set2\")\n",
    "plt.title(\"Success Rate by User Type and Flow\")\n",
    "plt.ylabel(\"Success Rate\")\n",
    "plt.xticks(rotation=45)\n",
    "plt.tight_layout()\n",
    "plt.show()\n"
   ]
  },
  {
   "cell_type": "markdown",
   "metadata": {},
   "source": [
    "Multivariate A/B Test – Statistical Comparison"
   ]
  },
  {
   "cell_type": "markdown",
   "metadata": {},
   "source": [
    "1. Export the multivariate success data to pandas"
   ]
  },
  {
   "cell_type": "code",
   "execution_count": 108,
   "metadata": {},
   "outputs": [
    {
     "name": "stdout",
     "output_type": "stream",
     "text": [
      "Multivariate A/B Test Summary:\n",
      "  Assigned_MultiFlow  Success_Count  Total_Users  Success_Rate\n",
      "0                 A2            276          448      0.616071\n",
      "1                 B1            132          219      0.602740\n",
      "2                 A1            192          333      0.576577\n"
     ]
    }
   ],
   "source": [
    "# Export from Spark to Pandas\n",
    "multi_pd = multi_grouped.toPandas()\n",
    "\n",
    "# Display\n",
    "print(\"Multivariate A/B Test Summary:\")\n",
    "print(multi_pd)\n"
   ]
  },
  {
   "cell_type": "markdown",
   "metadata": {},
   "source": [
    "2. Chi-Square Test Across All Variants (A1 vs A2 vs B1)"
   ]
  },
  {
   "cell_type": "code",
   "execution_count": 110,
   "metadata": {},
   "outputs": [
    {
     "name": "stdout",
     "output_type": "stream",
     "text": [
      "\n",
      "🔍 Chi-Square Test Across All Groups:\n",
      "Chi2 Stat: 1.2503, p-value: 0.53519\n",
      "ℹ️ No significant difference across groups.\n"
     ]
    }
   ],
   "source": [
    "from scipy.stats import chi2_contingency\n",
    "import numpy as np\n",
    "\n",
    "# Build contingency table: rows = groups, cols = [success, failure]\n",
    "contingency = np.array([\n",
    "    [row[\"Success_Count\"], row[\"Total_Users\"] - row[\"Success_Count\"]]\n",
    "    for _, row in multi_pd.iterrows()\n",
    "])\n",
    "\n",
    "chi2_stat, p_val, dof, expected = chi2_contingency(contingency)\n",
    "\n",
    "print(\"\\n🔍 Chi-Square Test Across All Groups:\")\n",
    "print(f\"Chi2 Stat: {chi2_stat:.4f}, p-value: {p_val:.5f}\")\n",
    "\n",
    "if p_val < 0.05:\n",
    "    print(\"✅ Significant difference found across groups.\")\n",
    "else:\n",
    "    print(\"ℹ️ No significant difference across groups.\")\n"
   ]
  },
  {
   "cell_type": "markdown",
   "metadata": {},
   "source": [
    "Pairwise Proportion Z-Tests (e.g., A1 vs A2, A1 vs B1)"
   ]
  },
  {
   "cell_type": "code",
   "execution_count": 111,
   "metadata": {},
   "outputs": [
    {
     "name": "stdout",
     "output_type": "stream",
     "text": [
      "\n",
      "📊 Z-Test: A1 vs A2\n",
      "Z-Statistic: -1.1139, P-Value: 0.26534\n",
      "ℹ️ No significant difference.\n",
      "\n",
      "📊 Z-Test: A1 vs B1\n",
      "Z-Statistic: -0.6108, P-Value: 0.54136\n",
      "ℹ️ No significant difference.\n",
      "\n",
      "📊 Z-Test: A2 vs B1\n",
      "Z-Statistic: 0.3318, P-Value: 0.74007\n",
      "ℹ️ No significant difference.\n"
     ]
    }
   ],
   "source": [
    "from statsmodels.stats.proportion import proportions_ztest\n",
    "\n",
    "# Define a helper to run z-test between two flows\n",
    "def ztest_between(df, flow1, flow2):\n",
    "    group1 = df[df[\"Assigned_MultiFlow\"] == flow1]\n",
    "    group2 = df[df[\"Assigned_MultiFlow\"] == flow2]\n",
    "    \n",
    "    count = [group1[\"Success_Count\"].values[0], group2[\"Success_Count\"].values[0]]\n",
    "    nobs = [group1[\"Total_Users\"].values[0], group2[\"Total_Users\"].values[0]]\n",
    "    \n",
    "    z_stat, p_val = proportions_ztest(count, nobs)\n",
    "    print(f\"\\n📊 Z-Test: {flow1} vs {flow2}\")\n",
    "    print(f\"Z-Statistic: {z_stat:.4f}, P-Value: {p_val:.5f}\")\n",
    "    if p_val < 0.05:\n",
    "        print(\"✅ Statistically significant difference.\")\n",
    "    else:\n",
    "        print(\"ℹ️ No significant difference.\")\n",
    "\n",
    "# Run pairwise comparisons\n",
    "ztest_between(multi_pd, \"A1\", \"A2\")\n",
    "ztest_between(multi_pd, \"A1\", \"B1\")\n",
    "ztest_between(multi_pd, \"A2\", \"B1\")\n"
   ]
  },
  {
   "cell_type": "code",
   "execution_count": 115,
   "metadata": {},
   "outputs": [
    {
     "name": "stdout",
     "output_type": "stream",
     "text": [
      "📁 Exported subgroup analysis for User Type → C:\\Users\\jagadeesh02.TRN\\Desktop\\Project Details\\ab_test1_subgroup_User_Type.csv\n",
      "📁 Exported subgroup analysis for Region → C:\\Users\\jagadeesh02.TRN\\Desktop\\Project Details\\ab_test1_subgroup_Region.csv\n",
      "📁 Exported subgroup analysis for Device Type → C:\\Users\\jagadeesh02.TRN\\Desktop\\Project Details\\ab_test1_subgroup_Device_Type.csv\n"
     ]
    }
   ],
   "source": [
    "from pyspark.sql.functions import col, sum as spark_sum, count as spark_count\n",
    "\n",
    "subgroup_cols = [\"User Type\", \"Region\", \"Device Type\"]\n",
    "\n",
    "for subgroup in subgroup_cols:\n",
    "    subgroup_df = df.groupBy(\"Assigned_Flow\", subgroup) \\\n",
    "        .agg(\n",
    "            spark_sum(\"Success_Flag\").alias(\"Success_Count\"),\n",
    "            spark_count(\"Success_Flag\").alias(\"Total_Users\")\n",
    "        ) \\\n",
    "        .withColumn(\"Success_Rate\", col(\"Success_Count\") / col(\"Total_Users\"))\n",
    "\n",
    "    # Convert to Pandas for easier export/analysis\n",
    "    pandas_subgroup_df = subgroup_df.toPandas()\n",
    "\n",
    "    # Save to CSV for stakeholder review\n",
    "    export_path = f\"C:\\\\Users\\\\jagadeesh02.TRN\\\\Desktop\\\\Project Details\\\\ab_test1_subgroup_{subgroup.replace(' ', '_')}.csv\"\n",
    "    pandas_subgroup_df.to_csv(export_path, index=False)\n",
    "    print(f\"📁 Exported subgroup analysis for {subgroup} → {export_path}\")\n"
   ]
  },
  {
   "cell_type": "code",
   "execution_count": 116,
   "metadata": {},
   "outputs": [
    {
     "name": "stdout",
     "output_type": "stream",
     "text": [
      "📉 No sufficient improvement. Keeping both flows active for further testing.\n"
     ]
    }
   ],
   "source": [
    "# Assume 'grouped_df' has aggregated success counts and totals per flow\n",
    "\n",
    "# Calculate success rates for each flow\n",
    "pandas_results = grouped_df.toPandas()\n",
    "rate_a = pandas_results.loc[pandas_results['Assigned_Flow'] == 'A', 'Success_Rate'].values[0]\n",
    "rate_b = pandas_results.loc[pandas_results['Assigned_Flow'] == 'B', 'Success_Rate'].values[0]\n",
    "\n",
    "# Define a minimum relative improvement threshold (e.g., 5%)\n",
    "threshold = 0.05  \n",
    "\n",
    "# Use p_value from your z-test (make sure you have it stored)\n",
    "if abs(rate_a - rate_b) / min(rate_a, rate_b) > threshold and p_value < 0.05:\n",
    "    winning_flow = \"A\" if rate_a > rate_b else \"B\"\n",
    "    print(f\"🚀 Deploying flow {winning_flow} as it shows >{threshold*100}% improvement with statistical significance.\")\n",
    "else:\n",
    "    print(\"📉 No sufficient improvement. Keeping both flows active for further testing.\")\n"
   ]
  },
  {
   "cell_type": "code",
   "execution_count": 117,
   "metadata": {},
   "outputs": [
    {
     "name": "stdout",
     "output_type": "stream",
     "text": [
      "+-------------+------------------+\n",
      "|Assigned_Flow| Avg_Response_Time|\n",
      "+-------------+------------------+\n",
      "|            B|172.99792531120332|\n",
      "|            A|172.03667953667954|\n",
      "+-------------+------------------+\n",
      "\n"
     ]
    }
   ],
   "source": [
    "from pyspark.sql.functions import avg\n",
    "\n",
    "response_time_df = df.groupBy(\"Assigned_Flow\") \\\n",
    "    .agg(\n",
    "        avg(\"Response Time (ms)\").alias(\"Avg_Response_Time\")\n",
    "    )\n",
    "\n",
    "response_time_df.show()\n",
    "\n",
    "# You can similarly compute average User Sentiment if it’s numeric or map sentiments to scores\n",
    "# For example, convert \"Positive\" -> 1, \"Neutral\" -> 0, \"Negative\" -> -1 (if applicable)\n"
   ]
  },
  {
   "cell_type": "code",
   "execution_count": 118,
   "metadata": {},
   "outputs": [
    {
     "name": "stdout",
     "output_type": "stream",
     "text": [
      "📁 Exported main A/B test results → C:\\Users\\jagadeesh02.TRN\\Desktop\\Project Details\\ab_test1_main_results.csv\n"
     ]
    }
   ],
   "source": [
    "# Export main aggregated success data\n",
    "export_main_path = \"C:\\\\Users\\\\jagadeesh02.TRN\\\\Desktop\\\\Project Details\\\\ab_test1_main_results.csv\"\n",
    "pandas_results.to_csv(export_main_path, index=False)\n",
    "print(f\"📁 Exported main A/B test results → {export_main_path}\")\n"
   ]
  },
  {
   "cell_type": "code",
   "execution_count": null,
   "metadata": {},
   "outputs": [],
   "source": []
  }
 ],
 "metadata": {
  "kernelspec": {
   "display_name": "Python 3",
   "language": "python",
   "name": "python3"
  },
  "language_info": {
   "codemirror_mode": {
    "name": "ipython",
    "version": 3
   },
   "file_extension": ".py",
   "mimetype": "text/x-python",
   "name": "python",
   "nbconvert_exporter": "python",
   "pygments_lexer": "ipython3",
   "version": "3.13.3"
  }
 },
 "nbformat": 4,
 "nbformat_minor": 2
}
